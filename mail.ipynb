{
 "cells": [
  {
   "cell_type": "code",
   "execution_count": 14,
   "metadata": {},
   "outputs": [],
   "source": [
    "import pandas as pd\n",
    "import mailbox\n",
    "import csv\n",
    "from email.utils import parsedate\n",
    "from dateutil.parser import parse\n",
    "import itertools"
   ]
  },
  {
   "cell_type": "code",
   "execution_count": 2,
   "metadata": {},
   "outputs": [],
   "source": [
    "path = '/Users/joehovde/Downloads/Takeout/Mail/All mail Including Spam and Trash.mbox'"
   ]
  },
  {
   "cell_type": "code",
   "execution_count": 24,
   "metadata": {},
   "outputs": [
    {
     "data": {
      "text/plain": [
       "'https://jellis18.github.io/post/2018-01-17-mail-analysis/'"
      ]
     },
     "execution_count": 24,
     "metadata": {},
     "output_type": "execute_result"
    }
   ],
   "source": [
    "'https://jellis18.github.io/post/2018-01-17-mail-analysis/'"
   ]
  },
  {
   "cell_type": "code",
   "execution_count": 3,
   "metadata": {},
   "outputs": [],
   "source": [
    "mbox = mailbox.mbox(path)"
   ]
  },
  {
   "cell_type": "code",
   "execution_count": 7,
   "metadata": {},
   "outputs": [
    {
     "name": "stdout",
     "output_type": "stream",
     "text": [
      "X-GM-THRID\n",
      "X-Gmail-Labels\n",
      "Delivered-To\n",
      "Received\n",
      "X-Google-Smtp-Source\n",
      "X-Received\n",
      "ARC-Seal\n",
      "ARC-Message-Signature\n",
      "ARC-Authentication-Results\n",
      "Return-Path\n",
      "Received\n",
      "Received-SPF\n",
      "Authentication-Results\n",
      "DKIM-Signature\n",
      "X-MSFBL\n",
      "X-Binding\n",
      "Message-ID\n",
      "List-Unsubscribe\n",
      "To\n",
      "Date\n",
      "Content-Type\n",
      "MIME-Version\n",
      "Subject\n",
      "From\n",
      "Reply-To\n"
     ]
    }
   ],
   "source": [
    "for key in mbox[0].keys():\n",
    "    print(key)"
   ]
  },
  {
   "cell_type": "code",
   "execution_count": 15,
   "metadata": {},
   "outputs": [],
   "source": [
    "with open(\"mbox.csv\", \"w\") as outfile:\n",
    "    writer = csv.writer(outfile)\n",
    "    for message in mbox:\n",
    "        writer.writerow([message['subject'], message['from'], message['date'], message['to'],\n",
    "                         message['X-Gmail-Labels'], message['X-GM-THRID']])"
   ]
  },
  {
   "cell_type": "code",
   "execution_count": 18,
   "metadata": {},
   "outputs": [],
   "source": [
    "df = pd.read_csv('mbox.csv', names=['subject', 'from', 'date', 'to', 'label', 'thread'])\n",
    "df['date'] = df['date'].apply(lambda x: pd.to_datetime(x, errors='coerce', utc=True))\n",
    "df = df[df['date'].notna()]"
   ]
  },
  {
   "cell_type": "code",
   "execution_count": 19,
   "metadata": {},
   "outputs": [
    {
     "data": {
      "text/html": [
       "<div>\n",
       "<style scoped>\n",
       "    .dataframe tbody tr th:only-of-type {\n",
       "        vertical-align: middle;\n",
       "    }\n",
       "\n",
       "    .dataframe tbody tr th {\n",
       "        vertical-align: top;\n",
       "    }\n",
       "\n",
       "    .dataframe thead th {\n",
       "        text-align: right;\n",
       "    }\n",
       "</style>\n",
       "<table border=\"1\" class=\"dataframe\">\n",
       "  <thead>\n",
       "    <tr style=\"text-align: right;\">\n",
       "      <th></th>\n",
       "      <th>subject</th>\n",
       "      <th>from</th>\n",
       "      <th>date</th>\n",
       "      <th>to</th>\n",
       "      <th>label</th>\n",
       "      <th>thread</th>\n",
       "    </tr>\n",
       "  </thead>\n",
       "  <tbody>\n",
       "    <tr>\n",
       "      <th>0</th>\n",
       "      <td>Join me on Tuesday</td>\n",
       "      <td>\"Justina Machado\" &lt;info@julianforthefuture.com&gt;</td>\n",
       "      <td>2020-06-12 19:16:39+00:00</td>\n",
       "      <td>jn.hovde@gmail.com</td>\n",
       "      <td>Inbox,Category Promotions,Unread</td>\n",
       "      <td>1669321880420237777</td>\n",
       "    </tr>\n",
       "    <tr>\n",
       "      <th>1</th>\n",
       "      <td>Race update: Montana</td>\n",
       "      <td>\"Stefanie Conahan\" &lt;kg@kirstengillibrand.com&gt;</td>\n",
       "      <td>2020-05-13 18:56:01+00:00</td>\n",
       "      <td>jn.hovde@gmail.com</td>\n",
       "      <td>Inbox,Category Promotions,Unread</td>\n",
       "      <td>1666602676391016949</td>\n",
       "    </tr>\n",
       "    <tr>\n",
       "      <th>2</th>\n",
       "      <td>The power of black women</td>\n",
       "      <td>\"Desiree Tims\" &lt;kg@kirstengillibrand.com&gt;</td>\n",
       "      <td>2020-07-20 16:36:56+00:00</td>\n",
       "      <td>jn.hovde@gmail.com</td>\n",
       "      <td>Inbox,Category Promotions,Unread</td>\n",
       "      <td>1672754517431004332</td>\n",
       "    </tr>\n",
       "    <tr>\n",
       "      <th>3</th>\n",
       "      <td>Police Violence is gun violence</td>\n",
       "      <td>\"=?iso-8859-1?q?Juli=E1n?= Castro\" &lt;info@julia...</td>\n",
       "      <td>2020-06-01 21:10:05+00:00</td>\n",
       "      <td>jn.hovde@gmail.com</td>\n",
       "      <td>Inbox,Category Promotions,Unread</td>\n",
       "      <td>1668332452111206580</td>\n",
       "    </tr>\n",
       "    <tr>\n",
       "      <th>4</th>\n",
       "      <td>Our most ambitious effort yet:</td>\n",
       "      <td>\"Flip the Senate Fund\" &lt;kg@kirstengillibrand.com&gt;</td>\n",
       "      <td>2020-07-29 11:39:38+00:00</td>\n",
       "      <td>jn.hovde@gmail.com</td>\n",
       "      <td>Inbox,Category Promotions,Unread</td>\n",
       "      <td>1673551185073569607</td>\n",
       "    </tr>\n",
       "  </tbody>\n",
       "</table>\n",
       "</div>"
      ],
      "text/plain": [
       "                           subject  \\\n",
       "0               Join me on Tuesday   \n",
       "1             Race update: Montana   \n",
       "2         The power of black women   \n",
       "3  Police Violence is gun violence   \n",
       "4   Our most ambitious effort yet:   \n",
       "\n",
       "                                                from  \\\n",
       "0    \"Justina Machado\" <info@julianforthefuture.com>   \n",
       "1      \"Stefanie Conahan\" <kg@kirstengillibrand.com>   \n",
       "2          \"Desiree Tims\" <kg@kirstengillibrand.com>   \n",
       "3  \"=?iso-8859-1?q?Juli=E1n?= Castro\" <info@julia...   \n",
       "4  \"Flip the Senate Fund\" <kg@kirstengillibrand.com>   \n",
       "\n",
       "                       date                  to  \\\n",
       "0 2020-06-12 19:16:39+00:00  jn.hovde@gmail.com   \n",
       "1 2020-05-13 18:56:01+00:00  jn.hovde@gmail.com   \n",
       "2 2020-07-20 16:36:56+00:00  jn.hovde@gmail.com   \n",
       "3 2020-06-01 21:10:05+00:00  jn.hovde@gmail.com   \n",
       "4 2020-07-29 11:39:38+00:00  jn.hovde@gmail.com   \n",
       "\n",
       "                              label               thread  \n",
       "0  Inbox,Category Promotions,Unread  1669321880420237777  \n",
       "1  Inbox,Category Promotions,Unread  1666602676391016949  \n",
       "2  Inbox,Category Promotions,Unread  1672754517431004332  \n",
       "3  Inbox,Category Promotions,Unread  1668332452111206580  \n",
       "4  Inbox,Category Promotions,Unread  1673551185073569607  "
      ]
     },
     "execution_count": 19,
     "metadata": {},
     "output_type": "execute_result"
    }
   ],
   "source": [
    "df.head()"
   ]
  },
  {
   "cell_type": "code",
   "execution_count": 23,
   "metadata": {},
   "outputs": [
    {
     "data": {
      "text/plain": [
       "=?utf-8?Q?Juli=C3=A1n_Castro?= <info@julianforthefuture.com>                             273\n",
       "\"ElizabethWarren.com\" <info@elizabethwarren.com>                                         179\n",
       "Elizabeth Warren <info@elizabethwarren.com>                                              164\n",
       "\"Marianne Williamson\" <contact@marianne2020.com>                                         155\n",
       "Cory Booker <hello@corybooker.com>                                                       135\n",
       "\"Pete for America\" <info@peteforamerica.com>                                             122\n",
       "Team Warren <info@elizabethwarren.com>                                                   102\n",
       "Warren 2020 <info@elizabethwarren.com>                                                    96\n",
       "\"Kamala Harris\" <info@kamalaharris.org>                                                   93\n",
       "Warren HQ <info@elizabethwarren.com>                                                      85\n",
       "\"Kirsten Gillibrand\" <kg@kirstengillibrand.com>                                           81\n",
       "John Hickenlooper <contact@hello.hickenlooper.com>                                        77\n",
       "\"Pete Buttigieg\" <info@peteforamerica.com>                                                72\n",
       "Warren for President <info@elizabethwarren.com>                                           71\n",
       "Kirsten Gillibrand <kg@kirstengillibrand.com>                                             59\n",
       "\"Jay Inslee\" <hello@jayinslee.com>                                                        58\n",
       "\"Patricia Ewing, Marianne 2020\" <contact@marianne2020.com>                                51\n",
       "\"BernieSanders.com\" <info@berniesanders.com>                                              49\n",
       "Andrew Yang <social@yang2020.com>                                                         43\n",
       "John Delaney <info@johndelaney.com>                                                       42\n",
       "Booker HQ <hello@corybooker.com>                                                          41\n",
       "\"Bernie Sanders\" <info@berniesanders.com>                                                 37\n",
       "Team Amy <info@amyklobuchar.com>                                                          35\n",
       "\"Team Kamala\" <info@kamalaharris.org>                                                     34\n",
       "Team Hickenlooper <contact@hello.hickenlooper.com>                                        34\n",
       "\"Kamala 2020\" <info@kamalaharris.org>                                                     33\n",
       "Amy Klobuchar <info@amyklobuchar.com>                                                     31\n",
       "\"kamalaharris.org\" <info@kamalaharris.org>                                                31\n",
       "\"Stefanie Conahan\" <kg@kirstengillibrand.com>                                             29\n",
       "\"Kamala HQ\" <info@kamalaharris.org>                                                       28\n",
       "                                                                                        ... \n",
       "Alexandria Phillips <kg@kirstengillibrand.com>                                             1\n",
       "Team Biden <info@americanpossibilities.org>                                                1\n",
       "Inslee for America <hello@jayinslee.com>                                                   1\n",
       "\"Elizabeth Warren\" <info@julianforthefuture.com>                                           1\n",
       "=?utf-8?Q?MUELLER_PETITION_=28via_Team_Juli=C3=A1n=29?= <info@julianforthefuture.com>      1\n",
       "\"Sen. Kirsten Gillibrand\" <kg@kirstengillibrand.com>                                       1\n",
       "\"Communications Team, Marianne 2020\" <contact@marianne2020.com>                            1\n",
       "Team Hickenlooper <hello@hickenlooper.com>                                                 1\n",
       "Bob Fertik - Democrats.com <info@votedem.org>                                              1\n",
       "\"Cecile Richards\" <kg@kirstengillibrand.com>                                               1\n",
       "\"Zach Graumann, Andrew Yang's Campaign Manager\" <social@yang2020.com>                      1\n",
       "=?utf-8?Q?Juli=C3=A1n_Castro_Debate_Status?= <info@julianforthefuture.com>                 1\n",
       "\"Organizing Team, Booker 2020\" <hello@corybooker.com>                                      1\n",
       "\"Jess O'Connell\" <info@peteforamerica.com>                                                 1\n",
       "\"Bernie Sanders\" <info@ocasiocortez.com>                                                   1\n",
       "\"Juan Carlos Perez\" <info@peteforamerica.com>                                              1\n",
       "\"2020-election@johndelaney.com\" <info@johndelaney.com>                                     1\n",
       "\"Ben Unger, jayinslee.com\" <hello@jayinslee.com>                                           1\n",
       "\"Michael, Amy for America\" <info@amyklobuchar.com>                                         1\n",
       "=?utf-8?Q?Val_Beck_=28John=E2=80=99s_Scheduler=29?= <contact@hello.hickenlooper.com>       1\n",
       "Mueller's Lost Page <hello@jayinslee.com>                                                  1\n",
       "Team Howard <Howard@howardschultz.com>                                                     1\n",
       "\"RapidResponse@Yang2020.com\" <social@yang2020.com>                                         1\n",
       "=?utf-8?Q?Juli=C3=A1n_Castro?= <info@elizabethwarren.com>                                  1\n",
       "\"Rev. Raphael Warnock\" <kg@kirstengillibrand.com>                                          1\n",
       "\"Semedrian Smith, Gillibrand 2020\" <kg@kirstengillibrand.com>                              1\n",
       "\"DEADLINE [via JohnDelaney.com]\" <info@johndelaney.com>                                    1\n",
       "\"deadline@juliancastro.com\" <info@julianforthefuture.com>                                  1\n",
       "=?utf-8?Q?BREAKING_=28via_Juli=C3=A1n_Castro=29?= <info@julianforthefuture.com>            1\n",
       "\"Bernard Sanders\" <info@berniesanders.com>                                                 1\n",
       "Name: from, Length: 515, dtype: int64"
      ]
     },
     "execution_count": 23,
     "metadata": {},
     "output_type": "execute_result"
    }
   ],
   "source": [
    "df['from']"
   ]
  }
 ],
 "metadata": {
  "kernelspec": {
   "display_name": "Python 3",
   "language": "python",
   "name": "python3"
  },
  "language_info": {
   "codemirror_mode": {
    "name": "ipython",
    "version": 3
   },
   "file_extension": ".py",
   "mimetype": "text/x-python",
   "name": "python",
   "nbconvert_exporter": "python",
   "pygments_lexer": "ipython3",
   "version": "3.7.3"
  },
  "toc": {
   "base_numbering": 1,
   "nav_menu": {},
   "number_sections": false,
   "sideBar": true,
   "skip_h1_title": false,
   "title_cell": "Table of Contents",
   "title_sidebar": "Contents",
   "toc_cell": false,
   "toc_position": {},
   "toc_section_display": true,
   "toc_window_display": false
  }
 },
 "nbformat": 4,
 "nbformat_minor": 2
}
